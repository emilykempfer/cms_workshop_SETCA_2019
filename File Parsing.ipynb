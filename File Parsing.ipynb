{
 "cells": [
  {
   "cell_type": "markdown",
   "metadata": {},
   "source": [
    "## File Parsing Lesson"
   ]
  },
  {
   "cell_type": "code",
   "execution_count": 1,
   "metadata": {},
   "outputs": [
    {
     "name": "stdout",
     "output_type": "stream",
     "text": [
      "MolSSI.ipynb    Untitled.ipynb  \u001b[34mdata\u001b[m\u001b[m/\r\n"
     ]
    }
   ],
   "source": [
    "ls"
   ]
  },
  {
   "cell_type": "code",
   "execution_count": 2,
   "metadata": {},
   "outputs": [
    {
     "name": "stdout",
     "output_type": "stream",
     "text": [
      "/Users/emilykempfer/Desktop/cms_workshop/data\n"
     ]
    }
   ],
   "source": [
    "cd data/"
   ]
  },
  {
   "cell_type": "code",
   "execution_count": 3,
   "metadata": {},
   "outputs": [
    {
     "name": "stdout",
     "output_type": "stream",
     "text": [
      "\u001b[31mbenzene.xyz\u001b[m\u001b[m*               \u001b[34moutfiles\u001b[m\u001b[m/\r\n",
      "\u001b[31mbuckminsterfullerene.xyz\u001b[m\u001b[m*  \u001b[31msapt.out\u001b[m\u001b[m*\r\n",
      "\u001b[31mdistance_data_headers.csv\u001b[m\u001b[m* \u001b[31mwater.xyz\u001b[m\u001b[m*\r\n"
     ]
    }
   ],
   "source": [
    "ls"
   ]
  },
  {
   "cell_type": "code",
   "execution_count": 4,
   "metadata": {},
   "outputs": [
    {
     "name": "stdout",
     "output_type": "stream",
     "text": [
      "/Users/emilykempfer/Desktop/cms_workshop/data/outfiles\n"
     ]
    }
   ],
   "source": [
    "cd outfiles/"
   ]
  },
  {
   "cell_type": "code",
   "execution_count": 5,
   "metadata": {},
   "outputs": [
    {
     "data": {
      "text/plain": [
       "'/Users/emilykempfer/Desktop/cms_workshop/data/outfiles'"
      ]
     },
     "execution_count": 5,
     "metadata": {},
     "output_type": "execute_result"
    }
   ],
   "source": [
    "pwd"
   ]
  },
  {
   "cell_type": "code",
   "execution_count": 6,
   "metadata": {},
   "outputs": [],
   "source": [
    "import os #functions related to operating system"
   ]
  },
  {
   "cell_type": "code",
   "execution_count": 7,
   "metadata": {},
   "outputs": [
    {
     "name": "stdout",
     "output_type": "stream",
     "text": [
      "data/outfiles/ethanol.out\n"
     ]
    }
   ],
   "source": [
    "#to use a fucntion from a module use dot notation\n",
    "ethanol_file = os.path.join('data', 'outfiles', 'ethanol.out')\n",
    "print (ethanol_file)\n",
    "#creates a path that can be used for all computers"
   ]
  },
  {
   "cell_type": "code",
   "execution_count": 8,
   "metadata": {},
   "outputs": [
    {
     "ename": "FileNotFoundError",
     "evalue": "[Errno 2] No such file or directory: 'data/outfiles/ethanol.out'",
     "output_type": "error",
     "traceback": [
      "\u001b[0;31m---------------------------------------------------------------------------\u001b[0m",
      "\u001b[0;31mFileNotFoundError\u001b[0m                         Traceback (most recent call last)",
      "\u001b[0;32m<ipython-input-8-b208d36f33b3>\u001b[0m in \u001b[0;36m<module>\u001b[0;34m()\u001b[0m\n\u001b[0;32m----> 1\u001b[0;31m \u001b[0moutfile\u001b[0m \u001b[0;34m=\u001b[0m \u001b[0mopen\u001b[0m\u001b[0;34m(\u001b[0m\u001b[0methanol_file\u001b[0m\u001b[0;34m,\u001b[0m \u001b[0;34m'r'\u001b[0m\u001b[0;34m)\u001b[0m \u001b[0;31m#opening for reading\u001b[0m\u001b[0;34m\u001b[0m\u001b[0m\n\u001b[0m\u001b[1;32m      2\u001b[0m \u001b[0mdata\u001b[0m \u001b[0;34m=\u001b[0m \u001b[0moutfile\u001b[0m\u001b[0;34m.\u001b[0m\u001b[0mreadlines\u001b[0m\u001b[0;34m(\u001b[0m\u001b[0;34m)\u001b[0m \u001b[0;31m#this will be a list, goes through a file and each line of the file is an element of a list\u001b[0m\u001b[0;34m\u001b[0m\u001b[0m\n",
      "\u001b[0;31mFileNotFoundError\u001b[0m: [Errno 2] No such file or directory: 'data/outfiles/ethanol.out'"
     ]
    }
   ],
   "source": [
    "outfile = open(ethanol_file, 'r') #opening for reading\n",
    "data = outfile.readlines() #this will be a list, goes through a file and each line of the file is an element of a list"
   ]
  },
  {
   "cell_type": "code",
   "execution_count": 9,
   "metadata": {},
   "outputs": [
    {
     "name": "stdout",
     "output_type": "stream",
     "text": [
      "/Users/emilykempfer/Desktop/cms_workshop/data\n"
     ]
    }
   ],
   "source": [
    "cd .."
   ]
  },
  {
   "cell_type": "code",
   "execution_count": 10,
   "metadata": {},
   "outputs": [
    {
     "name": "stdout",
     "output_type": "stream",
     "text": [
      "/Users/emilykempfer/Desktop/cms_workshop\n"
     ]
    }
   ],
   "source": [
    "cd .."
   ]
  },
  {
   "cell_type": "code",
   "execution_count": 11,
   "metadata": {},
   "outputs": [
    {
     "name": "stdout",
     "output_type": "stream",
     "text": [
      "data/outfiles/ethanol.out\n"
     ]
    }
   ],
   "source": [
    "ethanol_file = os.path.join('data', 'outfiles', 'ethanol.out')\n",
    "print (ethanol_file)\n",
    "#creates a path that can be used for all computers"
   ]
  },
  {
   "cell_type": "code",
   "execution_count": 12,
   "metadata": {},
   "outputs": [],
   "source": [
    "outfile = open(ethanol_file, 'r') #opening for reading\n",
    "data = outfile.readlines() #this will be a list, goes through a file and each line of the file is an element of a list"
   ]
  },
  {
   "cell_type": "code",
   "execution_count": 13,
   "metadata": {},
   "outputs": [
    {
     "data": {
      "text/plain": [
       "'/Users/emilykempfer/Desktop/cms_workshop'"
      ]
     },
     "execution_count": 13,
     "metadata": {},
     "output_type": "execute_result"
    }
   ],
   "source": [
    "pwd"
   ]
  },
  {
   "cell_type": "code",
   "execution_count": 14,
   "metadata": {},
   "outputs": [],
   "source": [
    "outfile.close()"
   ]
  },
  {
   "cell_type": "code",
   "execution_count": 15,
   "metadata": {},
   "outputs": [
    {
     "name": "stdout",
     "output_type": "stream",
     "text": [
      "270\n"
     ]
    }
   ],
   "source": [
    "outfile_length = len(data)\n",
    "print (outfile_length)"
   ]
  },
  {
   "cell_type": "code",
   "execution_count": 16,
   "metadata": {},
   "outputs": [
    {
     "name": "stdout",
     "output_type": "stream",
     "text": [
      "  @DF-RHF Final Energy:  -154.09130176573018\n",
      "\n"
     ]
    }
   ],
   "source": [
    "for line in data:\n",
    "    if 'Final Energy' in line:\n",
    "        energy_line = line\n",
    "        print (energy_line)"
   ]
  },
  {
   "cell_type": "code",
   "execution_count": 17,
   "metadata": {},
   "outputs": [
    {
     "data": {
      "text/plain": [
       "['@DF-RHF', 'Final', 'Energy:', '-154.09130176573018']"
      ]
     },
     "execution_count": 17,
     "metadata": {},
     "output_type": "execute_result"
    }
   ],
   "source": [
    "#take out just the number by using split- split takes the string and puts it into differnet words\n",
    "energy_line.split() #dont need to put anything because it splits on blank spaces, we could add in different things like commas"
   ]
  },
  {
   "cell_type": "code",
   "execution_count": 18,
   "metadata": {},
   "outputs": [],
   "source": [
    "words = energy_line.split()"
   ]
  },
  {
   "cell_type": "code",
   "execution_count": 19,
   "metadata": {},
   "outputs": [],
   "source": [
    "energy = words[3]"
   ]
  },
  {
   "cell_type": "code",
   "execution_count": 20,
   "metadata": {},
   "outputs": [
    {
     "name": "stdout",
     "output_type": "stream",
     "text": [
      "-154.09130176573018\n"
     ]
    }
   ],
   "source": [
    "print (energy)"
   ]
  },
  {
   "cell_type": "code",
   "execution_count": 21,
   "metadata": {},
   "outputs": [
    {
     "data": {
      "text/plain": [
       "str"
      ]
     },
     "execution_count": 21,
     "metadata": {},
     "output_type": "execute_result"
    }
   ],
   "source": [
    "type (energy) #need to change this to a float to be able to do any math with it"
   ]
  },
  {
   "cell_type": "code",
   "execution_count": 25,
   "metadata": {},
   "outputs": [
    {
     "data": {
      "text/plain": [
       "float"
      ]
     },
     "execution_count": 25,
     "metadata": {},
     "output_type": "execute_result"
    }
   ],
   "source": [
    "energy = float (energy) #changing energy from a str to a float, we are overwriting energy the str and making it energy the float\n",
    "type (energy)"
   ]
  },
  {
   "cell_type": "code",
   "execution_count": 26,
   "metadata": {},
   "outputs": [
    {
     "data": {
      "text/plain": [
       "-96693.67867971158"
      ]
     },
     "execution_count": 26,
     "metadata": {},
     "output_type": "execute_result"
    }
   ],
   "source": [
    "energy*627.509"
   ]
  },
  {
   "cell_type": "code",
   "execution_count": 27,
   "metadata": {},
   "outputs": [
    {
     "name": "stdout",
     "output_type": "stream",
     "text": [
      "77\n"
     ]
    }
   ],
   "source": [
    "#figuring out the line number of something to be able to locate it\n",
    "for linenum, line in enumerate(data): \n",
    "    if 'Center' in line:\n",
    "        center_line = linenum # we arent saving what is actually on the line we are only saving the line number\n",
    "        print (center_line)"
   ]
  },
  {
   "cell_type": "code",
   "execution_count": 28,
   "metadata": {},
   "outputs": [
    {
     "name": "stdout",
     "output_type": "stream",
     "text": [
      "       Center              X                  Y                   Z               Mass       \n",
      "\n"
     ]
    }
   ],
   "source": [
    "print(data[77])"
   ]
  },
  {
   "cell_type": "code",
   "execution_count": 29,
   "metadata": {},
   "outputs": [
    {
     "name": "stdout",
     "output_type": "stream",
     "text": [
      "           H          0.278612764252     1.265047047666    -1.274211449480     1.007825032070\n",
      "\n"
     ]
    }
   ],
   "source": [
    "print(data[79])"
   ]
  },
  {
   "cell_type": "markdown",
   "metadata": {},
   "source": [
    "## Parsing Multiple Files"
   ]
  },
  {
   "cell_type": "code",
   "execution_count": 30,
   "metadata": {},
   "outputs": [
    {
     "name": "stdout",
     "output_type": "stream",
     "text": [
      "data/outfiles/*.out\n"
     ]
    }
   ],
   "source": [
    "file_location = os.path.join('data','outfiles','*.out')\n",
    "print (file_location)"
   ]
  },
  {
   "cell_type": "code",
   "execution_count": 31,
   "metadata": {},
   "outputs": [],
   "source": [
    "#glob function is in the glob library\n",
    "import glob"
   ]
  },
  {
   "cell_type": "code",
   "execution_count": 32,
   "metadata": {},
   "outputs": [
    {
     "name": "stdout",
     "output_type": "stream",
     "text": [
      "['data/outfiles/propanol.out', 'data/outfiles/pentanol.out', 'data/outfiles/decanol.out', 'data/outfiles/methanol.out', 'data/outfiles/octanol.out', 'data/outfiles/ethanol.out', 'data/outfiles/hexanol.out', 'data/outfiles/heptanol.out', 'data/outfiles/butanol.out', 'data/outfiles/nonanol.out']\n"
     ]
    }
   ],
   "source": [
    "filenames = glob.glob(file_location) #library glob. function glob\n",
    "print(filenames)"
   ]
  },
  {
   "cell_type": "code",
   "execution_count": 38,
   "metadata": {},
   "outputs": [
    {
     "name": "stdout",
     "output_type": "stream",
     "text": [
      "data/outfiles/propanol.out -193.12836249728798\n",
      "data/outfiles/pentanol.out -271.20138119895074\n",
      "data/outfiles/decanol.out -466.3836241400086\n",
      "data/outfiles/methanol.out -115.04800861868374\n",
      "data/outfiles/octanol.out -388.3110864554743\n",
      "data/outfiles/ethanol.out -154.09130176573018\n",
      "data/outfiles/hexanol.out -310.2385332251633\n",
      "data/outfiles/heptanol.out -349.27397687072676\n",
      "data/outfiles/butanol.out -232.1655798347283\n",
      "data/outfiles/nonanol.out -427.3465180082815\n"
     ]
    }
   ],
   "source": [
    "for f in filenames: #counts over each filenames\n",
    "    outfile = open(f, 'r')\n",
    "    data = outfile.readlines()\n",
    "    outfile.close()\n",
    "    for line in data:\n",
    "        if 'Final Energy' in line:\n",
    "            energy_line = line\n",
    "            words = energy_line.split()\n",
    "            energy = float(words[3])\n",
    "            print (energy)"
   ]
  },
  {
   "cell_type": "code",
   "execution_count": 39,
   "metadata": {},
   "outputs": [
    {
     "name": "stdout",
     "output_type": "stream",
     "text": [
      "data/outfiles/propanol.out\n"
     ]
    }
   ],
   "source": [
    "first_file = filenames[0]\n",
    "print (first_file)"
   ]
  },
  {
   "cell_type": "code",
   "execution_count": 40,
   "metadata": {},
   "outputs": [
    {
     "name": "stdout",
     "output_type": "stream",
     "text": [
      "propanol.out\n"
     ]
    }
   ],
   "source": [
    "file_name = os.path.basename(first_file) #pulls out only the name of the file and not the path\n",
    "print (file_name)"
   ]
  },
  {
   "cell_type": "code",
   "execution_count": 44,
   "metadata": {},
   "outputs": [
    {
     "name": "stdout",
     "output_type": "stream",
     "text": [
      "propanol\n"
     ]
    }
   ],
   "source": [
    "split_filename = file_name.split('.')\n",
    "#print (split_filename)\n",
    "molecule_name = split_filename[0]\n",
    "print (molecule_name)\n"
   ]
  },
  {
   "cell_type": "code",
   "execution_count": 46,
   "metadata": {},
   "outputs": [
    {
     "name": "stdout",
     "output_type": "stream",
     "text": [
      "propanol -193.12836249728798\n",
      "pentanol -271.20138119895074\n",
      "decanol -466.3836241400086\n",
      "methanol -115.04800861868374\n",
      "octanol -388.3110864554743\n",
      "ethanol -154.09130176573018\n",
      "hexanol -310.2385332251633\n",
      "heptanol -349.27397687072676\n",
      "butanol -232.1655798347283\n",
      "nonanol -427.3465180082815\n"
     ]
    }
   ],
   "source": [
    "#go through all of the files\n",
    "for f in filenames: #counts over each filenames\n",
    "    #get molecule name\n",
    "    file_name = os.path.basename(f)\n",
    "    split_filename = file_name.split('.')\n",
    "    molecule_name = split_filename[0]\n",
    "    \n",
    "    outfile = open(f, 'r')\n",
    "    data = outfile.readlines()\n",
    "    outfile.close()\n",
    "    \n",
    "    #go through each line of one file\n",
    "    for line in data:\n",
    "        if 'Final Energy' in line:\n",
    "            energy_line = line\n",
    "            words = energy_line.split()\n",
    "            energy = float(words[3])\n",
    "            print (molecule_name, energy)"
   ]
  },
  {
   "cell_type": "code",
   "execution_count": 51,
   "metadata": {},
   "outputs": [],
   "source": [
    "#if we had a ton of files that we did this to, how can we put all of these into a file instead of printing to a file\n",
    "\n",
    "#need to open a file to write to it\n",
    "datafile = open('energies.txt', 'w+') \n",
    "#opening the file for writing and the plus means if this file doesnt exist to create it\n",
    "#write mode overwrites a file if it is already created 'a' is the append mode. this just adds to the file if it exists\n",
    "#go through all of the files\n",
    "for f in filenames: #counts over each filenames\n",
    "    #get molecule name\n",
    "    file_name = os.path.basename(f)\n",
    "    split_filename = file_name.split('.')\n",
    "    molecule_name = split_filename[0]\n",
    "    \n",
    "    outfile = open(f, 'r')\n",
    "    data = outfile.readlines()\n",
    "    outfile.close()\n",
    "    \n",
    "    #go through each line of one file\n",
    "    for line in data:\n",
    "        if 'Final Energy' in line:\n",
    "            energy_line = line\n",
    "            words = energy_line.split()\n",
    "            energy = float(words[3])\n",
    "            datafile.write(F'{molecule_name} \\t {energy} \\n') \n",
    "            #datafile.write(F'For {molecule_name} the energy is {energy} in kcal/mol \\n') either way is possible\n",
    "#\"F'words'\" lets you write anything as a str, we need the curly braces otherwise it would just write in those words\n",
    "#python can only write strings to a file\n",
    "#\\t tab and \\n is new line\n",
    "datafile.close() #WILL NOT WRITE WITHOUT THIS"
   ]
  },
  {
   "cell_type": "code",
   "execution_count": null,
   "metadata": {},
   "outputs": [],
   "source": []
  }
 ],
 "metadata": {
  "kernelspec": {
   "display_name": "Python 3",
   "language": "python",
   "name": "python3"
  },
  "language_info": {
   "codemirror_mode": {
    "name": "ipython",
    "version": 3
   },
   "file_extension": ".py",
   "mimetype": "text/x-python",
   "name": "python",
   "nbconvert_exporter": "python",
   "pygments_lexer": "ipython3",
   "version": "3.6.5"
  }
 },
 "nbformat": 4,
 "nbformat_minor": 2
}
