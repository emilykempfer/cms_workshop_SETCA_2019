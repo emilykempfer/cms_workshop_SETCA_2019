{
 "cells": [
  {
   "cell_type": "code",
   "execution_count": 49,
   "metadata": {},
   "outputs": [],
   "source": [
    "import os"
   ]
  },
  {
   "cell_type": "code",
   "execution_count": 50,
   "metadata": {},
   "outputs": [],
   "source": [
    "import numpy"
   ]
  },
  {
   "cell_type": "code",
   "execution_count": 51,
   "metadata": {},
   "outputs": [],
   "source": [
    "file_location = os.path.join('data', 'benzene.xyz')"
   ]
  },
  {
   "cell_type": "code",
   "execution_count": 52,
   "metadata": {},
   "outputs": [],
   "source": [
    "xyz_file = numpy.genfromtxt(fname=file_location, delimiter='',skip_header=2,dtype='unicode')"
   ]
  },
  {
   "cell_type": "code",
   "execution_count": 53,
   "metadata": {},
   "outputs": [],
   "source": [
    "symbols= xyz_file[:,0]"
   ]
  },
  {
   "cell_type": "code",
   "execution_count": 54,
   "metadata": {},
   "outputs": [],
   "source": [
    "coordinates = xyz_file[:,1:]\n",
    "coordinates = coordinates.astype(numpy.float)"
   ]
  },
  {
   "cell_type": "code",
   "execution_count": 55,
   "metadata": {},
   "outputs": [
    {
     "name": "stdout",
     "output_type": "stream",
     "text": [
      "['C' 'H' 'C' 'H' 'C' 'H' 'C' 'H' 'C' 'H' 'C' 'H']\n",
      "[[ 0.       1.40272  0.     ]\n",
      " [ 0.       2.49029  0.     ]\n",
      " [-1.21479  0.70136  0.     ]\n",
      " [-2.15666  1.24515  0.     ]\n",
      " [-1.21479 -0.70136  0.     ]\n",
      " [-2.15666 -1.24515  0.     ]\n",
      " [ 0.      -1.40272  0.     ]\n",
      " [ 0.      -2.49029  0.     ]\n",
      " [ 1.21479 -0.70136  0.     ]\n",
      " [ 2.15666 -1.24515  0.     ]\n",
      " [ 1.21479  0.70136  0.     ]\n",
      " [ 2.15666  1.24515  0.     ]]\n"
     ]
    }
   ],
   "source": [
    "print (symbols)\n",
    "print (coordinates)"
   ]
  },
  {
   "cell_type": "code",
   "execution_count": 56,
   "metadata": {},
   "outputs": [],
   "source": [
    "#def function name(parameters):\n",
    "    #lines of code-use those imput variables to calculate the value to return\n",
    "    #lines of code\n",
    "#    return value_to_return\n",
    "#basic ideas of functions\n",
    "def calculate_distance(atom1,atom2):\n",
    "    x_distance = atom1[0]-atom2[0]\n",
    "    y_distance = atom1[1]-atom2[1]\n",
    "    z_distance = atom1[2]-atom2[2]\n",
    "    distance = numpy.sqrt(x_distance**2+ y_distance**2+z_distance**2)\n",
    "    return distance"
   ]
  },
  {
   "cell_type": "code",
   "execution_count": 57,
   "metadata": {},
   "outputs": [],
   "source": [
    "def bond_check(bond_distance,bond_min=0,bond_max=1.5): # we can define the default min and max in the def\n",
    "    if bond_distance >bond_min and bond_distance<bond_max:\n",
    "        return True\n",
    "    else:\n",
    "        return False"
   ]
  },
  {
   "cell_type": "code",
   "execution_count": 58,
   "metadata": {},
   "outputs": [
    {
     "name": "stdout",
     "output_type": "stream",
     "text": [
      "H to C : 1.088\n",
      "C to C : 1.403\n",
      "H to C : 1.088\n",
      "C to C : 1.403\n",
      "H to C : 1.088\n",
      "C to C : 1.403\n",
      "H to C : 1.088\n",
      "C to C : 1.403\n",
      "H to C : 1.088\n",
      "C to C : 1.403\n",
      "C to C : 1.403\n",
      "H to C : 1.088\n"
     ]
    }
   ],
   "source": [
    "for numA, atomA in enumerate(coordinates):\n",
    "    for numB, atomB in enumerate(coordinates):\n",
    "        if numB<numA:\n",
    "            distance_AB = calculate_distance(atomA,atomB)\n",
    "            if bond_check(distance_AB,bond_max=1.5) == True: \n",
    "                #we can change the max and not the min here if we dont want to chane the defaults\n",
    "                print (F'{symbols[numA]} to {symbols[numB]} : {distance_AB:.3f}')"
   ]
  },
  {
   "cell_type": "code",
   "execution_count": null,
   "metadata": {},
   "outputs": [],
   "source": []
  }
 ],
 "metadata": {
  "kernelspec": {
   "display_name": "Python 3",
   "language": "python",
   "name": "python3"
  },
  "language_info": {
   "codemirror_mode": {
    "name": "ipython",
    "version": 3
   },
   "file_extension": ".py",
   "mimetype": "text/x-python",
   "name": "python",
   "nbconvert_exporter": "python",
   "pygments_lexer": "ipython3",
   "version": "3.6.5"
  }
 },
 "nbformat": 4,
 "nbformat_minor": 2
}
